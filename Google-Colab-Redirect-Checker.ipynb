{
  "nbformat": 4,
  "nbformat_minor": 0,
  "metadata": {
    "colab": {
      "provenance": []
    },
    "kernelspec": {
      "name": "python3",
      "display_name": "Python 3"
    },
    "language_info": {
      "name": "python"
    }
  },
  "cells": [
    {
      "cell_type": "code",
      "execution_count": null,
      "metadata": {
        "colab": {
          "base_uri": "https://localhost:8080/"
        },
        "id": "PvONG-0amDf_",
        "outputId": "19b3449c-afd9-4d5d-b56c-ad7b083b1606"
      },
      "outputs": [
        {
          "output_type": "stream",
          "name": "stdout",
          "text": [
            "Requirement already satisfied: requests in /usr/local/lib/python3.10/dist-packages (2.31.0)\n",
            "Requirement already satisfied: charset-normalizer<4,>=2 in /usr/local/lib/python3.10/dist-packages (from requests) (3.3.2)\n",
            "Requirement already satisfied: idna<4,>=2.5 in /usr/local/lib/python3.10/dist-packages (from requests) (3.7)\n",
            "Requirement already satisfied: urllib3<3,>=1.21.1 in /usr/local/lib/python3.10/dist-packages (from requests) (2.0.7)\n",
            "Requirement already satisfied: certifi>=2017.4.17 in /usr/local/lib/python3.10/dist-packages (from requests) (2024.7.4)\n"
          ]
        }
      ],
      "source": [
        "!pip install requests\n"
      ]
    },
    {
      "cell_type": "code",
      "source": [
        "import requests\n",
        "\n",
        "def check_url(url):\n",
        "    try:\n",
        "        response = requests.get(url, allow_redirects=True)\n",
        "        redirect_chain = response.history\n",
        "        status_code = response.status_code\n",
        "\n",
        "        if status_code == 404:\n",
        "            return f\"{url} - 404 Not Found\"\n",
        "        elif status_code == 500:\n",
        "            return f\"{url} - 500 Internal Server Error\"\n",
        "        elif len(redirect_chain) > 0:\n",
        "            chain = ' -> '.join([r.url for r in redirect_chain]) + ' -> ' + response.url\n",
        "            return f\"{url} - Chain Redirect: {chain}\"\n",
        "        else:\n",
        "            return f\"{url} - OK\"\n",
        "    except requests.exceptions.RequestException as e:\n",
        "        return f\"{url} - Error: {e}\"\n",
        "\n",
        "def process_urls(input_file, output_file):\n",
        "    with open(input_file, 'r') as infile, open(output_file, 'w') as outfile:\n",
        "        urls = infile.readlines()\n",
        "        for url in urls:\n",
        "            url = url.strip()\n",
        "            result = check_url(url)\n",
        "            print(result)\n",
        "            outfile.write(result + '\\n')\n",
        "\n",
        "# Create a list of URLs to test\n",
        "urls = \"\"\"https://www.example.com\n",
        "https://httpstat.us/200\n",
        "https://httpstat.us/301\n",
        "https://httpstat.us/302\n",
        "https://httpstat.us/404\n",
        "https://httpstat.us/500\n",
        "https://www.google.com\n",
        "https://www.nonexistentwebsite.com\n",
        "https://www.github.com\n",
        "https://httpbin.org/redirect/1\n",
        "https://httpbin.org/redirect/2\n",
        "https://httpbin.org/redirect/3\"\"\"\n",
        "\n",
        "# Write the test URLs to a file\n",
        "input_file = 'urls.txt'\n",
        "with open(input_file, 'w') as file:\n",
        "    file.write(urls)\n",
        "\n",
        "# Define the output file path\n",
        "output_file = 'results.txt'\n",
        "\n",
        "# Process the URLs\n",
        "process_urls(input_file, output_file)\n",
        "\n",
        "# Download the results\n",
        "from google.colab import files\n",
        "files.download(output_file)\n"
      ],
      "metadata": {
        "colab": {
          "base_uri": "https://localhost:8080/",
          "height": 245
        },
        "id": "2sVGKnNJm5Y7",
        "outputId": "8a89468f-b279-4e87-bd7e-c13abf53a9e5"
      },
      "execution_count": null,
      "outputs": [
        {
          "output_type": "stream",
          "name": "stdout",
          "text": [
            "https://www.example.com - OK\n",
            "https://httpstat.us/200 - OK\n",
            "https://httpstat.us/301 - Chain Redirect: https://httpstat.us/301 -> https://httpstat.us\n",
            "https://httpstat.us/302 - Chain Redirect: https://httpstat.us/302 -> https://httpstat.us\n",
            "https://httpstat.us/404 - 404 Not Found\n",
            "https://httpstat.us/500 - 500 Internal Server Error\n",
            "https://www.google.com - OK\n",
            "https://www.nonexistentwebsite.com - Error: HTTPSConnectionPool(host='www.nonexistentwebsite.com', port=443): Max retries exceeded with url: / (Caused by NameResolutionError(\"<urllib3.connection.HTTPSConnection object at 0x7a4535732470>: Failed to resolve 'www.nonexistentwebsite.com' ([Errno -2] Name or service not known)\"))\n",
            "https://www.github.com - Chain Redirect: https://www.github.com/ -> https://github.com/\n",
            "https://httpbin.org/redirect/1 - Chain Redirect: https://httpbin.org/redirect/1 -> https://httpbin.org/get\n",
            "https://httpbin.org/redirect/2 - Chain Redirect: https://httpbin.org/redirect/2 -> https://httpbin.org/relative-redirect/1 -> https://httpbin.org/get\n",
            "https://httpbin.org/redirect/3 - Chain Redirect: https://httpbin.org/redirect/3 -> https://httpbin.org/relative-redirect/2 -> https://httpbin.org/relative-redirect/1 -> https://httpbin.org/get\n"
          ]
        },
        {
          "output_type": "display_data",
          "data": {
            "text/plain": [
              "<IPython.core.display.Javascript object>"
            ],
            "application/javascript": [
              "\n",
              "    async function download(id, filename, size) {\n",
              "      if (!google.colab.kernel.accessAllowed) {\n",
              "        return;\n",
              "      }\n",
              "      const div = document.createElement('div');\n",
              "      const label = document.createElement('label');\n",
              "      label.textContent = `Downloading \"${filename}\": `;\n",
              "      div.appendChild(label);\n",
              "      const progress = document.createElement('progress');\n",
              "      progress.max = size;\n",
              "      div.appendChild(progress);\n",
              "      document.body.appendChild(div);\n",
              "\n",
              "      const buffers = [];\n",
              "      let downloaded = 0;\n",
              "\n",
              "      const channel = await google.colab.kernel.comms.open(id);\n",
              "      // Send a message to notify the kernel that we're ready.\n",
              "      channel.send({})\n",
              "\n",
              "      for await (const message of channel.messages) {\n",
              "        // Send a message to notify the kernel that we're ready.\n",
              "        channel.send({})\n",
              "        if (message.buffers) {\n",
              "          for (const buffer of message.buffers) {\n",
              "            buffers.push(buffer);\n",
              "            downloaded += buffer.byteLength;\n",
              "            progress.value = downloaded;\n",
              "          }\n",
              "        }\n",
              "      }\n",
              "      const blob = new Blob(buffers, {type: 'application/binary'});\n",
              "      const a = document.createElement('a');\n",
              "      a.href = window.URL.createObjectURL(blob);\n",
              "      a.download = filename;\n",
              "      div.appendChild(a);\n",
              "      a.click();\n",
              "      div.remove();\n",
              "    }\n",
              "  "
            ]
          },
          "metadata": {}
        },
        {
          "output_type": "display_data",
          "data": {
            "text/plain": [
              "<IPython.core.display.Javascript object>"
            ],
            "application/javascript": [
              "download(\"download_c3629676-20dc-4436-a895-58cb771421ff\", \"results.txt\", 1221)"
            ]
          },
          "metadata": {}
        }
      ]
    }
  ]
}